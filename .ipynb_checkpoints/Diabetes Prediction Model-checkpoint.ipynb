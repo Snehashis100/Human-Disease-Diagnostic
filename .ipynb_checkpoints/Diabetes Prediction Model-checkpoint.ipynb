{
 "cells": [
  {
   "cell_type": "code",
   "execution_count": 1,
   "metadata": {},
   "outputs": [],
   "source": [
    "import pickle\n",
    "model=pickle.load(open(\"diabetes_model.pkl\",'rb'))\n",
    "mms=pickle.load(open(\"diabetes_scaler.pkl\",'rb'))"
   ]
  },
  {
   "cell_type": "code",
   "execution_count": 2,
   "metadata": {},
   "outputs": [],
   "source": [
    "import numpy as np\n",
    "def Transformation(value):\n",
    "    if value!=0:\n",
    "        return np.log(value)\n",
    "    else:\n",
    "        return value\n",
    "    \n",
    "def Prediction(Glu,Ins,BMI,Skin,Age,Preg,Diabet,bp,model,mms):\n",
    "    insulin=Transformation(Ins)\n",
    "    dpf=Transformation(Diabet)\n",
    "    scaled_values=list(mms.transform(np.array([Glu,insulin,BMI,Skin,Age,Preg,dpf,bp]).reshape(1,-1)))\n",
    "    threshold = 0.519345\n",
    "    predicted_proba = model.predict_proba(scaled_values)\n",
    "    predicted = (predicted_proba [:,1] >= threshold).astype('int')\n",
    "    if predicted==1:\n",
    "        print(\"Diabetic\")\n",
    "    else:\n",
    "        print(\"Non Diabetic\")"
   ]
  },
  {
   "cell_type": "code",
   "execution_count": 3,
   "metadata": {},
   "outputs": [
    {
     "name": "stdout",
     "output_type": "stream",
     "text": [
      "Diabetic\n"
     ]
    }
   ],
   "source": [
    "Prediction(6,148,72,35,0,33.6,0.627,50,model,mms)"
   ]
  },
  {
   "cell_type": "code",
   "execution_count": null,
   "metadata": {},
   "outputs": [],
   "source": []
  }
 ],
 "metadata": {
  "kernelspec": {
   "display_name": "Python 3",
   "language": "python",
   "name": "python3"
  },
  "language_info": {
   "codemirror_mode": {
    "name": "ipython",
    "version": 3
   },
   "file_extension": ".py",
   "mimetype": "text/x-python",
   "name": "python",
   "nbconvert_exporter": "python",
   "pygments_lexer": "ipython3",
   "version": "3.8.5"
  }
 },
 "nbformat": 4,
 "nbformat_minor": 4
}
