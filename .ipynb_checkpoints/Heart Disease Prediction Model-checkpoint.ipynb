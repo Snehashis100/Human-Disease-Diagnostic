{
 "cells": [
  {
   "cell_type": "code",
   "execution_count": 2,
   "metadata": {},
   "outputs": [],
   "source": [
    "import numpy as np\n",
    "import pickle"
   ]
  },
  {
   "cell_type": "code",
   "execution_count": 3,
   "metadata": {},
   "outputs": [],
   "source": [
    "mms2=pickle.load(open(\"heart_scaler.pkl\",'rb'))\n",
    "model=pickle.load(open(\"heart_model.pkl\",'rb'))"
   ]
  },
  {
   "cell_type": "code",
   "execution_count": 5,
   "metadata": {},
   "outputs": [],
   "source": [
    "def Prediction(age,sex,cp,trest,rest,thal,exang,oldpeak,slope,ca,tha,model,mms2):\n",
    "    scaled_values=list(mms2.transform(np.array([age,sex,cp,trest,rest,thal,exang,oldpeak,slope,ca,tha]).reshape(1,-1)))\n",
    "    pred=model.predict(scaled_values)\n",
    "    if pred==1:\n",
    "        print(\"You have Heart Disease\")\n",
    "    else:\n",
    "        print(\"You donot Heart Disease\")"
   ]
  },
  {
   "cell_type": "code",
   "execution_count": 7,
   "metadata": {},
   "outputs": [
    {
     "name": "stdout",
     "output_type": "stream",
     "text": [
      "You have Heart Disease\n"
     ]
    }
   ],
   "source": [
    "Prediction(42,1,1,120.0,1,162,0,0.0,2,0,2,model,mms2)"
   ]
  },
  {
   "cell_type": "code",
   "execution_count": null,
   "metadata": {},
   "outputs": [],
   "source": []
  }
 ],
 "metadata": {
  "kernelspec": {
   "display_name": "Python 3",
   "language": "python",
   "name": "python3"
  },
  "language_info": {
   "codemirror_mode": {
    "name": "ipython",
    "version": 3
   },
   "file_extension": ".py",
   "mimetype": "text/x-python",
   "name": "python",
   "nbconvert_exporter": "python",
   "pygments_lexer": "ipython3",
   "version": "3.8.5"
  }
 },
 "nbformat": 4,
 "nbformat_minor": 4
}
