{
 "cells": [
  {
   "cell_type": "code",
   "execution_count": 1,
   "metadata": {},
   "outputs": [],
   "source": [
    "import pickle\n",
    "model=pickle.load(open(\"cancer_model.pkl\",'rb'))\n",
    "mms1=pickle.load(open(\"cancer_scaler.pkl\",'rb'))"
   ]
  },
  {
   "cell_type": "code",
   "execution_count": 2,
   "metadata": {},
   "outputs": [],
   "source": [
    "import numpy as np\n",
    "def Transformation(value):\n",
    "    if value!=0:\n",
    "        return np.log(value)\n",
    "    else:\n",
    "        return value\n",
    "def Prediction(pm,as1,cpm,cm,cpw,cm1,cw,tw,tm,cps,sw,model,mms1):\n",
    "    perimeter_mean=Transformation(pm)\n",
    "    area_se=Transformation(as1)\n",
    "    concave_points_mean=Transformation(cpm)\n",
    "    concavity_mean=Transformation(cm)\n",
    "    concave_points_worst=Transformation(cpw)\n",
    "    compactness_mean=Transformation(cm1)\n",
    "    compactness_worst=Transformation(cw)\n",
    "    texture_worst=Transformation(tw)\n",
    "    texture_mean=Transformation(tm)\n",
    "    concave_points_se=Transformation(cps)\n",
    "    smoothness_worst=Transformation(sw)\n",
    "    scaled_values=list(mms1.transform(np.array([perimeter_mean,area_se,concave_points_mean,concavity_mean,concave_points_worst,\n",
    "                                  compactness_mean,compactness_worst,texture_worst,texture_mean,concave_points_se,\n",
    "                                  smoothness_worst]).reshape(1,-1)))\n",
    "    \n",
    "    result=model.predict(scaled_values)\n",
    "    if result==1:\n",
    "        print(\"Melignant\")\n",
    "    else:\n",
    "        print(\"Benign\")"
   ]
  },
  {
   "cell_type": "code",
   "execution_count": 3,
   "metadata": {},
   "outputs": [
    {
     "name": "stdout",
     "output_type": "stream",
     "text": [
      "Benign\n"
     ]
    }
   ],
   "source": [
    "Prediction(0.441228,0.262524,0.487720,0.580419,0.729230,0.428864,0.504993,0.441435,0.438052,0.444410,0.180334,model,mms1)"
   ]
  },
  {
   "cell_type": "code",
   "execution_count": null,
   "metadata": {},
   "outputs": [],
   "source": []
  }
 ],
 "metadata": {
  "kernelspec": {
   "display_name": "Python 3",
   "language": "python",
   "name": "python3"
  },
  "language_info": {
   "codemirror_mode": {
    "name": "ipython",
    "version": 3
   },
   "file_extension": ".py",
   "mimetype": "text/x-python",
   "name": "python",
   "nbconvert_exporter": "python",
   "pygments_lexer": "ipython3",
   "version": "3.8.5"
  }
 },
 "nbformat": 4,
 "nbformat_minor": 4
}
