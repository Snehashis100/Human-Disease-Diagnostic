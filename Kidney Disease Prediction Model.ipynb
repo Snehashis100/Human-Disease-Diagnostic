{
 "cells": [
  {
   "cell_type": "code",
   "execution_count": 1,
   "metadata": {},
   "outputs": [],
   "source": [
    "import pickle\n",
    "model=pickle.load(open(\"kidney_model.pkl\",'rb'))\n",
    "mms=pickle.load(open(\"kidney_scaler.pkl\",'rb'))"
   ]
  },
  {
   "cell_type": "code",
   "execution_count": 6,
   "metadata": {},
   "outputs": [],
   "source": [
    "import math\n",
    "def Encoder(val):\n",
    "    if val.lower()=='normal':\n",
    "        return 1\n",
    "    else:\n",
    "        return 0\n",
    "\n",
    "def Encoder1(val):\n",
    "    if val.lower()=='present':\n",
    "        return 1\n",
    "    else:\n",
    "        return 0\n",
    "    \n",
    "def Encoder2(val):\n",
    "    if val.lower()=='yes':\n",
    "        return 1\n",
    "    else:\n",
    "        return 0\n",
    "\n",
    "def Encoder3(val):\n",
    "    if val.lower()=='poor':\n",
    "        return 1\n",
    "    else:\n",
    "        return 0\n",
    "    \n",
    "    \n",
    "    \n",
    "import numpy as np\n",
    "def Prediction(rbc_nor,pc_nor,pcc_pre,ba_pre,htn_yes,dm_yes,cad_yes,appet_poor,pe_yes,\n",
    "               ane_yes,rc,wc,bp,sg,al,su,age,bgr,bu,sc,sod,hemo,pcv,model,mms):\n",
    "    rbc=Encoder(rbc_nor)\n",
    "    pc=Encoder(pc_nor)\n",
    "    pcc=Encoder1(pcc_pre)\n",
    "    ba=Encoder1(ba_pre)\n",
    "    htn=Encoder2(htn_yes)\n",
    "    dm=Encoder2(dm_yes)\n",
    "    cad=Encoder2(cad_yes)\n",
    "    appet=Encoder3(appet_poor)\n",
    "    pe=Encoder2(pe_yes)\n",
    "    ane=Encoder2(ane_yes)\n",
    "    if rc==-1:\n",
    "        rc_nan=1\n",
    "    else:\n",
    "        rc_nan=0\n",
    "    if wc==-1:\n",
    "        wc_nan=1\n",
    "    else:\n",
    "        wc_nan=0\n",
    "    if rbc_nor==-1:\n",
    "        rbc_nan=1\n",
    "    else:\n",
    "        rbc_nan=0\n",
    "    \n",
    "    scaled_values=list(mms.transform(np.array([rbc,pc,pcc,ba,htn,dm,cad,appet,pe,ane,rc,wc,rbc_nan,bp,sg,al,su\n",
    "                                               ,age,bgr,bu,sc,sod,hemo,pcv,rc_nan,wc_nan]).reshape(1,-1)))\n",
    "    \n",
    "    result=model.predict(scaled_values)\n",
    "    if result==1:\n",
    "        print(\"Normal\")\n",
    "    else:\n",
    "        print(\"You have a kidney disease\")"
   ]
  },
  {
   "cell_type": "code",
   "execution_count": 8,
   "metadata": {},
   "outputs": [
    {
     "name": "stdout",
     "output_type": "stream",
     "text": [
      "You have a kidney disease\n"
     ]
    }
   ],
   "source": [
    "Prediction(\"normal\",\"normal\",\"present\",'present','yes','yes','yes','poor','yes','yes',575,562,82,1.021,32,45,29,47,22,123,45,12,45,model,mms)"
   ]
  },
  {
   "cell_type": "code",
   "execution_count": null,
   "metadata": {},
   "outputs": [],
   "source": [
    ","
   ]
  }
 ],
 "metadata": {
  "kernelspec": {
   "display_name": "Python 3",
   "language": "python",
   "name": "python3"
  },
  "language_info": {
   "codemirror_mode": {
    "name": "ipython",
    "version": 3
   },
   "file_extension": ".py",
   "mimetype": "text/x-python",
   "name": "python",
   "nbconvert_exporter": "python",
   "pygments_lexer": "ipython3",
   "version": "3.8.5"
  }
 },
 "nbformat": 4,
 "nbformat_minor": 4
}
