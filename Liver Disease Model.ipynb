{
 "cells": [
  {
   "cell_type": "code",
   "execution_count": 1,
   "metadata": {},
   "outputs": [],
   "source": [
    "import pickle\n",
    "model=pickle.load(open(\"liver_model.pkl\",'rb'))\n",
    "mms=pickle.load(open(\"liver_scaler.pkl\",'rb'))"
   ]
  },
  {
   "cell_type": "code",
   "execution_count": 2,
   "metadata": {},
   "outputs": [],
   "source": [
    "import numpy as np\n",
    "def Transformation(value):\n",
    "    if value!=0:\n",
    "        return np.log(value)\n",
    "    else:\n",
    "        return value\n",
    "    \n",
    "def Prediction(Age,Total_Bil,Direct_Bil,Alb,Alb_Glo_Ratio,Alk_Phosp,Alam_Amino,Asp_Amino,model,mms):\n",
    "    a1=Transformation(Alk_Phosp)\n",
    "    a2=Transformation(Alam_Amino)\n",
    "    a3=Transformation(Asp_Amino)\n",
    "    scaled_values=list(mms.transform(np.array([Age,Total_Bil,Direct_Bil,Alb,Alb_Glo_Ratio,a1,a2,a3]).reshape(1,-1)))\n",
    "    threshold = 0.32\n",
    "    predicted_proba = model.predict_proba(scaled_values)\n",
    "    predicted = (predicted_proba [:,1] >= threshold).astype('int')\n",
    "    if predicted==1:\n",
    "        print(\"You have Liver Disease\")\n",
    "    else:\n",
    "        print(\"You donot have Liver Disease\")"
   ]
  },
  {
   "cell_type": "code",
   "execution_count": 3,
   "metadata": {},
   "outputs": [
    {
     "name": "stdout",
     "output_type": "stream",
     "text": [
      "You have Liver Disease\n"
     ]
    }
   ],
   "source": [
    "Prediction(45,2.3,1.3,4.0,1.2,5.641907,4.882802,5.908083,model,mms)"
   ]
  },
  {
   "cell_type": "code",
   "execution_count": null,
   "metadata": {},
   "outputs": [],
   "source": []
  }
 ],
 "metadata": {
  "kernelspec": {
   "display_name": "Python 3",
   "language": "python",
   "name": "python3"
  },
  "language_info": {
   "codemirror_mode": {
    "name": "ipython",
    "version": 3
   },
   "file_extension": ".py",
   "mimetype": "text/x-python",
   "name": "python",
   "nbconvert_exporter": "python",
   "pygments_lexer": "ipython3",
   "version": "3.8.5"
  }
 },
 "nbformat": 4,
 "nbformat_minor": 4
}
